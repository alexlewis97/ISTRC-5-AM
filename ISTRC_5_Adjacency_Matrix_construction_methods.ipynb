{
  "cells": [
    {
      "cell_type": "markdown",
      "metadata": {
        "id": "view-in-github",
        "colab_type": "text"
      },
      "source": [
        "<a href=\"https://colab.research.google.com/github/alexlewis97/ISTRC-5-AM/blob/main/ISTRC_5_Adjacency_Matrix_construction_methods.ipynb\" target=\"_parent\"><img src=\"https://colab.research.google.com/assets/colab-badge.svg\" alt=\"Open In Colab\"/></a>"
      ]
    },
    {
      "cell_type": "code",
      "execution_count": null,
      "metadata": {
        "colab": {
          "base_uri": "https://localhost:8080/"
        },
        "id": "yKGmgtSZ1HAR",
        "outputId": "ae78dde4-6aa9-443f-807b-a4a53fde96bd"
      },
      "outputs": [
        {
          "output_type": "stream",
          "name": "stdout",
          "text": [
            "Mounted at /content/gdrive\n"
          ]
        }
      ],
      "source": [
        "from google.colab import drive\n",
        "drive.mount('/content/gdrive')"
      ]
    },
    {
      "cell_type": "markdown",
      "metadata": {
        "id": "GrHfdLmSlNXP"
      },
      "source": [
        "# Data preparation"
      ]
    },
    {
      "cell_type": "code",
      "execution_count": null,
      "metadata": {
        "id": "O2Exz6Sj1IKe"
      },
      "outputs": [],
      "source": [
        "import pandas as pd\n",
        "import numpy as np\n",
        "\n",
        "from matplotlib import pyplot as plt\n",
        "import seaborn as sns\n",
        "\n",
        "\n",
        "import tensorflow as tf\n",
        "from tensorflow import keras\n",
        "from tensorflow.keras import layers\n",
        "from tensorflow.keras.models import Sequential\n",
        "from tensorflow.keras.layers import LSTM\n",
        "from tensorflow.keras.layers import Dense, Dropout\n",
        "\n",
        "from sklearn.preprocessing import StandardScaler"
      ]
    },
    {
      "cell_type": "code",
      "execution_count": null,
      "metadata": {
        "id": "ftan8f5-1MEu"
      },
      "outputs": [],
      "source": [
        "data = pd.read_csv('gdrive/MyDrive/לימודים תואר שני/thesis/data/data.csv')"
      ]
    },
    {
      "cell_type": "code",
      "execution_count": null,
      "metadata": {
        "id": "7Z93XNBuj_YJ"
      },
      "outputs": [],
      "source": [
        "metadata = pd.read_csv('gdrive/MyDrive/לימודים תואר שני/thesis/metadata.txt', sep='\\t')"
      ]
    },
    {
      "cell_type": "code",
      "execution_count": null,
      "metadata": {
        "colab": {
          "base_uri": "https://localhost:8080/",
          "height": 451
        },
        "id": "kXU_276Pzc5n",
        "outputId": "09ff3157-c368-467e-9145-de2f7e3bf3d7"
      },
      "outputs": [
        {
          "output_type": "execute_result",
          "data": {
            "text/plain": [
              "       ID  Fwy Dir  District  County  City State_PM   Abs_PM   Latitude  \\\n",
              "0  308511   50   E         3      17   NaN   31.627   60.162  38.761062   \n",
              "1  308512   50   W         3      17   NaN   31.627   60.166  38.761182   \n",
              "2  311832    5   S         3      67   NaN   10.896  506.189  38.409782   \n",
              "3  311844    5   N         3      67   NaN   11.105  506.398  38.412779   \n",
              "4  311847    5   N         3      67   NaN   12.185  507.478  38.428258   \n",
              "\n",
              "    Longitude  Length Type  Lanes                     Name  User_ID_1  \\\n",
              "0 -120.569835   3.134   ML      2              Sly Park Rd          1   \n",
              "1 -120.569866   3.995   ML      2              Sly Park Rd          1   \n",
              "2 -121.484120     NaN   FR      1           Elk Grove Blvd          1   \n",
              "3 -121.484363     NaN   OR      3  Elk Grove Blvd 5NB Slip          1   \n",
              "4 -121.487578     NaN   OR      3  Laguna Blvd to 5NB Slip          1   \n",
              "\n",
              "   User_ID_2  User_ID_3  User_ID_4  \n",
              "0        NaN        NaN        NaN  \n",
              "1        NaN        NaN        NaN  \n",
              "2        NaN        NaN        NaN  \n",
              "3        NaN        NaN        NaN  \n",
              "4        NaN        NaN        NaN  "
            ],
            "text/html": [
              "\n",
              "  <div id=\"df-29b29bac-6fa3-4537-be88-26fe7c95d0c8\" class=\"colab-df-container\">\n",
              "    <div>\n",
              "<style scoped>\n",
              "    .dataframe tbody tr th:only-of-type {\n",
              "        vertical-align: middle;\n",
              "    }\n",
              "\n",
              "    .dataframe tbody tr th {\n",
              "        vertical-align: top;\n",
              "    }\n",
              "\n",
              "    .dataframe thead th {\n",
              "        text-align: right;\n",
              "    }\n",
              "</style>\n",
              "<table border=\"1\" class=\"dataframe\">\n",
              "  <thead>\n",
              "    <tr style=\"text-align: right;\">\n",
              "      <th></th>\n",
              "      <th>ID</th>\n",
              "      <th>Fwy</th>\n",
              "      <th>Dir</th>\n",
              "      <th>District</th>\n",
              "      <th>County</th>\n",
              "      <th>City</th>\n",
              "      <th>State_PM</th>\n",
              "      <th>Abs_PM</th>\n",
              "      <th>Latitude</th>\n",
              "      <th>Longitude</th>\n",
              "      <th>Length</th>\n",
              "      <th>Type</th>\n",
              "      <th>Lanes</th>\n",
              "      <th>Name</th>\n",
              "      <th>User_ID_1</th>\n",
              "      <th>User_ID_2</th>\n",
              "      <th>User_ID_3</th>\n",
              "      <th>User_ID_4</th>\n",
              "    </tr>\n",
              "  </thead>\n",
              "  <tbody>\n",
              "    <tr>\n",
              "      <th>0</th>\n",
              "      <td>308511</td>\n",
              "      <td>50</td>\n",
              "      <td>E</td>\n",
              "      <td>3</td>\n",
              "      <td>17</td>\n",
              "      <td>NaN</td>\n",
              "      <td>31.627</td>\n",
              "      <td>60.162</td>\n",
              "      <td>38.761062</td>\n",
              "      <td>-120.569835</td>\n",
              "      <td>3.134</td>\n",
              "      <td>ML</td>\n",
              "      <td>2</td>\n",
              "      <td>Sly Park Rd</td>\n",
              "      <td>1</td>\n",
              "      <td>NaN</td>\n",
              "      <td>NaN</td>\n",
              "      <td>NaN</td>\n",
              "    </tr>\n",
              "    <tr>\n",
              "      <th>1</th>\n",
              "      <td>308512</td>\n",
              "      <td>50</td>\n",
              "      <td>W</td>\n",
              "      <td>3</td>\n",
              "      <td>17</td>\n",
              "      <td>NaN</td>\n",
              "      <td>31.627</td>\n",
              "      <td>60.166</td>\n",
              "      <td>38.761182</td>\n",
              "      <td>-120.569866</td>\n",
              "      <td>3.995</td>\n",
              "      <td>ML</td>\n",
              "      <td>2</td>\n",
              "      <td>Sly Park Rd</td>\n",
              "      <td>1</td>\n",
              "      <td>NaN</td>\n",
              "      <td>NaN</td>\n",
              "      <td>NaN</td>\n",
              "    </tr>\n",
              "    <tr>\n",
              "      <th>2</th>\n",
              "      <td>311832</td>\n",
              "      <td>5</td>\n",
              "      <td>S</td>\n",
              "      <td>3</td>\n",
              "      <td>67</td>\n",
              "      <td>NaN</td>\n",
              "      <td>10.896</td>\n",
              "      <td>506.189</td>\n",
              "      <td>38.409782</td>\n",
              "      <td>-121.484120</td>\n",
              "      <td>NaN</td>\n",
              "      <td>FR</td>\n",
              "      <td>1</td>\n",
              "      <td>Elk Grove Blvd</td>\n",
              "      <td>1</td>\n",
              "      <td>NaN</td>\n",
              "      <td>NaN</td>\n",
              "      <td>NaN</td>\n",
              "    </tr>\n",
              "    <tr>\n",
              "      <th>3</th>\n",
              "      <td>311844</td>\n",
              "      <td>5</td>\n",
              "      <td>N</td>\n",
              "      <td>3</td>\n",
              "      <td>67</td>\n",
              "      <td>NaN</td>\n",
              "      <td>11.105</td>\n",
              "      <td>506.398</td>\n",
              "      <td>38.412779</td>\n",
              "      <td>-121.484363</td>\n",
              "      <td>NaN</td>\n",
              "      <td>OR</td>\n",
              "      <td>3</td>\n",
              "      <td>Elk Grove Blvd 5NB Slip</td>\n",
              "      <td>1</td>\n",
              "      <td>NaN</td>\n",
              "      <td>NaN</td>\n",
              "      <td>NaN</td>\n",
              "    </tr>\n",
              "    <tr>\n",
              "      <th>4</th>\n",
              "      <td>311847</td>\n",
              "      <td>5</td>\n",
              "      <td>N</td>\n",
              "      <td>3</td>\n",
              "      <td>67</td>\n",
              "      <td>NaN</td>\n",
              "      <td>12.185</td>\n",
              "      <td>507.478</td>\n",
              "      <td>38.428258</td>\n",
              "      <td>-121.487578</td>\n",
              "      <td>NaN</td>\n",
              "      <td>OR</td>\n",
              "      <td>3</td>\n",
              "      <td>Laguna Blvd to 5NB Slip</td>\n",
              "      <td>1</td>\n",
              "      <td>NaN</td>\n",
              "      <td>NaN</td>\n",
              "      <td>NaN</td>\n",
              "    </tr>\n",
              "  </tbody>\n",
              "</table>\n",
              "</div>\n",
              "    <div class=\"colab-df-buttons\">\n",
              "\n",
              "  <div class=\"colab-df-container\">\n",
              "    <button class=\"colab-df-convert\" onclick=\"convertToInteractive('df-29b29bac-6fa3-4537-be88-26fe7c95d0c8')\"\n",
              "            title=\"Convert this dataframe to an interactive table.\"\n",
              "            style=\"display:none;\">\n",
              "\n",
              "  <svg xmlns=\"http://www.w3.org/2000/svg\" height=\"24px\" viewBox=\"0 -960 960 960\">\n",
              "    <path d=\"M120-120v-720h720v720H120Zm60-500h600v-160H180v160Zm220 220h160v-160H400v160Zm0 220h160v-160H400v160ZM180-400h160v-160H180v160Zm440 0h160v-160H620v160ZM180-180h160v-160H180v160Zm440 0h160v-160H620v160Z\"/>\n",
              "  </svg>\n",
              "    </button>\n",
              "\n",
              "  <style>\n",
              "    .colab-df-container {\n",
              "      display:flex;\n",
              "      gap: 12px;\n",
              "    }\n",
              "\n",
              "    .colab-df-convert {\n",
              "      background-color: #E8F0FE;\n",
              "      border: none;\n",
              "      border-radius: 50%;\n",
              "      cursor: pointer;\n",
              "      display: none;\n",
              "      fill: #1967D2;\n",
              "      height: 32px;\n",
              "      padding: 0 0 0 0;\n",
              "      width: 32px;\n",
              "    }\n",
              "\n",
              "    .colab-df-convert:hover {\n",
              "      background-color: #E2EBFA;\n",
              "      box-shadow: 0px 1px 2px rgba(60, 64, 67, 0.3), 0px 1px 3px 1px rgba(60, 64, 67, 0.15);\n",
              "      fill: #174EA6;\n",
              "    }\n",
              "\n",
              "    .colab-df-buttons div {\n",
              "      margin-bottom: 4px;\n",
              "    }\n",
              "\n",
              "    [theme=dark] .colab-df-convert {\n",
              "      background-color: #3B4455;\n",
              "      fill: #D2E3FC;\n",
              "    }\n",
              "\n",
              "    [theme=dark] .colab-df-convert:hover {\n",
              "      background-color: #434B5C;\n",
              "      box-shadow: 0px 1px 3px 1px rgba(0, 0, 0, 0.15);\n",
              "      filter: drop-shadow(0px 1px 2px rgba(0, 0, 0, 0.3));\n",
              "      fill: #FFFFFF;\n",
              "    }\n",
              "  </style>\n",
              "\n",
              "    <script>\n",
              "      const buttonEl =\n",
              "        document.querySelector('#df-29b29bac-6fa3-4537-be88-26fe7c95d0c8 button.colab-df-convert');\n",
              "      buttonEl.style.display =\n",
              "        google.colab.kernel.accessAllowed ? 'block' : 'none';\n",
              "\n",
              "      async function convertToInteractive(key) {\n",
              "        const element = document.querySelector('#df-29b29bac-6fa3-4537-be88-26fe7c95d0c8');\n",
              "        const dataTable =\n",
              "          await google.colab.kernel.invokeFunction('convertToInteractive',\n",
              "                                                    [key], {});\n",
              "        if (!dataTable) return;\n",
              "\n",
              "        const docLinkHtml = 'Like what you see? Visit the ' +\n",
              "          '<a target=\"_blank\" href=https://colab.research.google.com/notebooks/data_table.ipynb>data table notebook</a>'\n",
              "          + ' to learn more about interactive tables.';\n",
              "        element.innerHTML = '';\n",
              "        dataTable['output_type'] = 'display_data';\n",
              "        await google.colab.output.renderOutput(dataTable, element);\n",
              "        const docLink = document.createElement('div');\n",
              "        docLink.innerHTML = docLinkHtml;\n",
              "        element.appendChild(docLink);\n",
              "      }\n",
              "    </script>\n",
              "  </div>\n",
              "\n",
              "\n",
              "<div id=\"df-31e2960d-51d1-47d1-86df-c854928701c0\">\n",
              "  <button class=\"colab-df-quickchart\" onclick=\"quickchart('df-31e2960d-51d1-47d1-86df-c854928701c0')\"\n",
              "            title=\"Suggest charts\"\n",
              "            style=\"display:none;\">\n",
              "\n",
              "<svg xmlns=\"http://www.w3.org/2000/svg\" height=\"24px\"viewBox=\"0 0 24 24\"\n",
              "     width=\"24px\">\n",
              "    <g>\n",
              "        <path d=\"M19 3H5c-1.1 0-2 .9-2 2v14c0 1.1.9 2 2 2h14c1.1 0 2-.9 2-2V5c0-1.1-.9-2-2-2zM9 17H7v-7h2v7zm4 0h-2V7h2v10zm4 0h-2v-4h2v4z\"/>\n",
              "    </g>\n",
              "</svg>\n",
              "  </button>\n",
              "\n",
              "<style>\n",
              "  .colab-df-quickchart {\n",
              "      --bg-color: #E8F0FE;\n",
              "      --fill-color: #1967D2;\n",
              "      --hover-bg-color: #E2EBFA;\n",
              "      --hover-fill-color: #174EA6;\n",
              "      --disabled-fill-color: #AAA;\n",
              "      --disabled-bg-color: #DDD;\n",
              "  }\n",
              "\n",
              "  [theme=dark] .colab-df-quickchart {\n",
              "      --bg-color: #3B4455;\n",
              "      --fill-color: #D2E3FC;\n",
              "      --hover-bg-color: #434B5C;\n",
              "      --hover-fill-color: #FFFFFF;\n",
              "      --disabled-bg-color: #3B4455;\n",
              "      --disabled-fill-color: #666;\n",
              "  }\n",
              "\n",
              "  .colab-df-quickchart {\n",
              "    background-color: var(--bg-color);\n",
              "    border: none;\n",
              "    border-radius: 50%;\n",
              "    cursor: pointer;\n",
              "    display: none;\n",
              "    fill: var(--fill-color);\n",
              "    height: 32px;\n",
              "    padding: 0;\n",
              "    width: 32px;\n",
              "  }\n",
              "\n",
              "  .colab-df-quickchart:hover {\n",
              "    background-color: var(--hover-bg-color);\n",
              "    box-shadow: 0 1px 2px rgba(60, 64, 67, 0.3), 0 1px 3px 1px rgba(60, 64, 67, 0.15);\n",
              "    fill: var(--button-hover-fill-color);\n",
              "  }\n",
              "\n",
              "  .colab-df-quickchart-complete:disabled,\n",
              "  .colab-df-quickchart-complete:disabled:hover {\n",
              "    background-color: var(--disabled-bg-color);\n",
              "    fill: var(--disabled-fill-color);\n",
              "    box-shadow: none;\n",
              "  }\n",
              "\n",
              "  .colab-df-spinner {\n",
              "    border: 2px solid var(--fill-color);\n",
              "    border-color: transparent;\n",
              "    border-bottom-color: var(--fill-color);\n",
              "    animation:\n",
              "      spin 1s steps(1) infinite;\n",
              "  }\n",
              "\n",
              "  @keyframes spin {\n",
              "    0% {\n",
              "      border-color: transparent;\n",
              "      border-bottom-color: var(--fill-color);\n",
              "      border-left-color: var(--fill-color);\n",
              "    }\n",
              "    20% {\n",
              "      border-color: transparent;\n",
              "      border-left-color: var(--fill-color);\n",
              "      border-top-color: var(--fill-color);\n",
              "    }\n",
              "    30% {\n",
              "      border-color: transparent;\n",
              "      border-left-color: var(--fill-color);\n",
              "      border-top-color: var(--fill-color);\n",
              "      border-right-color: var(--fill-color);\n",
              "    }\n",
              "    40% {\n",
              "      border-color: transparent;\n",
              "      border-right-color: var(--fill-color);\n",
              "      border-top-color: var(--fill-color);\n",
              "    }\n",
              "    60% {\n",
              "      border-color: transparent;\n",
              "      border-right-color: var(--fill-color);\n",
              "    }\n",
              "    80% {\n",
              "      border-color: transparent;\n",
              "      border-right-color: var(--fill-color);\n",
              "      border-bottom-color: var(--fill-color);\n",
              "    }\n",
              "    90% {\n",
              "      border-color: transparent;\n",
              "      border-bottom-color: var(--fill-color);\n",
              "    }\n",
              "  }\n",
              "</style>\n",
              "\n",
              "  <script>\n",
              "    async function quickchart(key) {\n",
              "      const quickchartButtonEl =\n",
              "        document.querySelector('#' + key + ' button');\n",
              "      quickchartButtonEl.disabled = true;  // To prevent multiple clicks.\n",
              "      quickchartButtonEl.classList.add('colab-df-spinner');\n",
              "      try {\n",
              "        const charts = await google.colab.kernel.invokeFunction(\n",
              "            'suggestCharts', [key], {});\n",
              "      } catch (error) {\n",
              "        console.error('Error during call to suggestCharts:', error);\n",
              "      }\n",
              "      quickchartButtonEl.classList.remove('colab-df-spinner');\n",
              "      quickchartButtonEl.classList.add('colab-df-quickchart-complete');\n",
              "    }\n",
              "    (() => {\n",
              "      let quickchartButtonEl =\n",
              "        document.querySelector('#df-31e2960d-51d1-47d1-86df-c854928701c0 button');\n",
              "      quickchartButtonEl.style.display =\n",
              "        google.colab.kernel.accessAllowed ? 'block' : 'none';\n",
              "    })();\n",
              "  </script>\n",
              "</div>\n",
              "\n",
              "    </div>\n",
              "  </div>\n"
            ],
            "application/vnd.google.colaboratory.intrinsic+json": {
              "type": "dataframe",
              "variable_name": "metadata",
              "summary": "{\n  \"name\": \"metadata\",\n  \"rows\": 1537,\n  \"fields\": [\n    {\n      \"column\": \"ID\",\n      \"properties\": {\n        \"dtype\": \"number\",\n        \"std\": 1259129,\n        \"min\": 308511,\n        \"max\": 3423106,\n        \"num_unique_values\": 1537,\n        \"samples\": [\n          3016012,\n          312563,\n          314560\n        ],\n        \"semantic_type\": \"\",\n        \"description\": \"\"\n      }\n    },\n    {\n      \"column\": \"Fwy\",\n      \"properties\": {\n        \"dtype\": \"number\",\n        \"std\": 44,\n        \"min\": 5,\n        \"max\": 505,\n        \"num_unique_values\": 19,\n        \"samples\": [\n          50,\n          160,\n          28\n        ],\n        \"semantic_type\": \"\",\n        \"description\": \"\"\n      }\n    },\n    {\n      \"column\": \"Dir\",\n      \"properties\": {\n        \"dtype\": \"category\",\n        \"num_unique_values\": 4,\n        \"samples\": [\n          \"W\",\n          \"N\",\n          \"E\"\n        ],\n        \"semantic_type\": \"\",\n        \"description\": \"\"\n      }\n    },\n    {\n      \"column\": \"District\",\n      \"properties\": {\n        \"dtype\": \"number\",\n        \"std\": 0,\n        \"min\": 3,\n        \"max\": 3,\n        \"num_unique_values\": 1,\n        \"samples\": [\n          3\n        ],\n        \"semantic_type\": \"\",\n        \"description\": \"\"\n      }\n    },\n    {\n      \"column\": \"County\",\n      \"properties\": {\n        \"dtype\": \"number\",\n        \"std\": 23,\n        \"min\": 7,\n        \"max\": 115,\n        \"num_unique_values\": 10,\n        \"samples\": [\n          11\n        ],\n        \"semantic_type\": \"\",\n        \"description\": \"\"\n      }\n    },\n    {\n      \"column\": \"City\",\n      \"properties\": {\n        \"dtype\": \"number\",\n        \"std\": 17960.030023313684,\n        \"min\": 13014.0,\n        \"max\": 86972.0,\n        \"num_unique_values\": 16,\n        \"samples\": [\n          64000.0\n        ],\n        \"semantic_type\": \"\",\n        \"description\": \"\"\n      }\n    },\n    {\n      \"column\": \"State_PM\",\n      \"properties\": {\n        \"dtype\": \"string\",\n        \"num_unique_values\": 920,\n        \"samples\": [\n          \"22.292\"\n        ],\n        \"semantic_type\": \"\",\n        \"description\": \"\"\n      }\n    },\n    {\n      \"column\": \"Abs_PM\",\n      \"properties\": {\n        \"dtype\": \"number\",\n        \"std\": 166.46942570182597,\n        \"min\": 0.066,\n        \"max\": 621.401,\n        \"num_unique_values\": 969,\n        \"samples\": [\n          18.104\n        ],\n        \"semantic_type\": \"\",\n        \"description\": \"\"\n      }\n    },\n    {\n      \"column\": \"Latitude\",\n      \"properties\": {\n        \"dtype\": \"number\",\n        \"std\": 0.26743378472798773,\n        \"min\": 38.153957,\n        \"max\": 39.789571,\n        \"num_unique_values\": 1031,\n        \"samples\": [\n          38.632213\n        ],\n        \"semantic_type\": \"\",\n        \"description\": \"\"\n      }\n    },\n    {\n      \"column\": \"Longitude\",\n      \"properties\": {\n        \"dtype\": \"number\",\n        \"std\": 0.3522321480714039,\n        \"min\": -122.203566,\n        \"max\": -119.949361,\n        \"num_unique_values\": 1033,\n        \"samples\": [\n          -121.50418\n        ],\n        \"semantic_type\": \"\",\n        \"description\": \"\"\n      }\n    },\n    {\n      \"column\": \"Length\",\n      \"properties\": {\n        \"dtype\": \"number\",\n        \"std\": 1.2635945012720033,\n        \"min\": 0.0,\n        \"max\": 5.0,\n        \"num_unique_values\": 620,\n        \"samples\": [\n          0.617\n        ],\n        \"semantic_type\": \"\",\n        \"description\": \"\"\n      }\n    },\n    {\n      \"column\": \"Type\",\n      \"properties\": {\n        \"dtype\": \"category\",\n        \"num_unique_values\": 5,\n        \"samples\": [\n          \"FR\"\n        ],\n        \"semantic_type\": \"\",\n        \"description\": \"\"\n      }\n    },\n    {\n      \"column\": \"Lanes\",\n      \"properties\": {\n        \"dtype\": \"number\",\n        \"std\": 1,\n        \"min\": 1,\n        \"max\": 7,\n        \"num_unique_values\": 7,\n        \"samples\": [\n          2\n        ],\n        \"semantic_type\": \"\",\n        \"description\": \"\"\n      }\n    },\n    {\n      \"column\": \"Name\",\n      \"properties\": {\n        \"dtype\": \"string\",\n        \"num_unique_values\": 935,\n        \"samples\": [\n          \"Winters St to 80WB Slip\"\n        ],\n        \"semantic_type\": \"\",\n        \"description\": \"\"\n      }\n    },\n    {\n      \"column\": \"User_ID_1\",\n      \"properties\": {\n        \"dtype\": \"number\",\n        \"std\": 0,\n        \"min\": 1,\n        \"max\": 1,\n        \"num_unique_values\": 1,\n        \"samples\": [\n          1\n        ],\n        \"semantic_type\": \"\",\n        \"description\": \"\"\n      }\n    },\n    {\n      \"column\": \"User_ID_2\",\n      \"properties\": {\n        \"dtype\": \"number\",\n        \"std\": null,\n        \"min\": null,\n        \"max\": null,\n        \"num_unique_values\": 0,\n        \"samples\": [],\n        \"semantic_type\": \"\",\n        \"description\": \"\"\n      }\n    },\n    {\n      \"column\": \"User_ID_3\",\n      \"properties\": {\n        \"dtype\": \"number\",\n        \"std\": null,\n        \"min\": null,\n        \"max\": null,\n        \"num_unique_values\": 0,\n        \"samples\": [],\n        \"semantic_type\": \"\",\n        \"description\": \"\"\n      }\n    },\n    {\n      \"column\": \"User_ID_4\",\n      \"properties\": {\n        \"dtype\": \"number\",\n        \"std\": null,\n        \"min\": null,\n        \"max\": null,\n        \"num_unique_values\": 0,\n        \"samples\": [],\n        \"semantic_type\": \"\",\n        \"description\": \"\"\n      }\n    }\n  ]\n}"
            }
          },
          "metadata": {},
          "execution_count": 6
        }
      ],
      "source": [
        "metadata.head()"
      ]
    },
    {
      "cell_type": "code",
      "execution_count": null,
      "metadata": {
        "id": "RBF96BgRjXA1"
      },
      "outputs": [],
      "source": [
        "flow_df = data.pivot(index='Timestamp', columns='ID', values='Flow')\n",
        "speed_df = data.pivot(index='Timestamp', columns='ID', values='Speed')\n",
        "\n",
        "flow_df = flow_df.fillna(0)\n",
        "speed_df = speed_df.fillna(0)\n",
        "\n",
        "constant_zeros = speed_df.columns[speed_df.isin([0]).all()]\n",
        "\n",
        "speed_df.drop(constant_zeros, axis=1, inplace=True)\n",
        "flow_df = flow_df.loc[:, ~flow_df.columns.isin(constant_zeros)]"
      ]
    },
    {
      "cell_type": "code",
      "execution_count": null,
      "metadata": {
        "id": "ARgwUyr5BYee"
      },
      "outputs": [],
      "source": [
        "adj = pd.read_csv('gdrive/MyDrive/לימודים תואר שני/thesis/adj_matrix_directed.csv')"
      ]
    },
    {
      "cell_type": "code",
      "execution_count": null,
      "metadata": {
        "id": "CGgauimAFcMS"
      },
      "outputs": [],
      "source": [
        "cols = []\n",
        "\n",
        "for i in range(1, len(adj.columns)):\n",
        "  cols.append(int(adj.columns[i]))\n",
        "\n",
        "data = data[data['ID'].isin(cols)]\n",
        "\n",
        "adj = adj.drop(columns=[str(col) for col in cols if col not in flow_df.columns])"
      ]
    },
    {
      "cell_type": "code",
      "execution_count": null,
      "metadata": {
        "id": "YXU_b7taO755"
      },
      "outputs": [],
      "source": [
        "columns=[str(col) for col in cols if col not in flow_df.columns]"
      ]
    },
    {
      "cell_type": "code",
      "execution_count": null,
      "metadata": {
        "id": "L2incC4JLADx"
      },
      "outputs": [],
      "source": [
        "adj = adj[~adj['ID'].isin(int(col) for col in columns)]"
      ]
    },
    {
      "cell_type": "code",
      "execution_count": null,
      "metadata": {
        "id": "bvr3ny02MYCA"
      },
      "outputs": [],
      "source": [
        "adj = adj.iloc[:, :-1]"
      ]
    },
    {
      "cell_type": "code",
      "execution_count": null,
      "metadata": {
        "id": "ouiCgHDQIkxW"
      },
      "outputs": [],
      "source": [
        "adj = adj.set_index('ID')"
      ]
    },
    {
      "cell_type": "code",
      "execution_count": null,
      "metadata": {
        "id": "egay1OqDleFY"
      },
      "outputs": [],
      "source": [
        "adj = adj[:-1]"
      ]
    },
    {
      "cell_type": "code",
      "execution_count": null,
      "metadata": {
        "colab": {
          "base_uri": "https://localhost:8080/"
        },
        "id": "sNYh1ByWmQsf",
        "outputId": "5c8c4b34-283b-458b-9290-7478711036d2"
      },
      "outputs": [
        {
          "output_type": "execute_result",
          "data": {
            "text/plain": [
              "((8352, 1007), (8352, 1007), (988, 988))"
            ]
          },
          "metadata": {},
          "execution_count": 15
        }
      ],
      "source": [
        "speed_df.shape, flow_df.shape, adj.shape"
      ]
    },
    {
      "cell_type": "code",
      "execution_count": null,
      "metadata": {
        "colab": {
          "base_uri": "https://localhost:8080/"
        },
        "id": "PSvcp_aImYgl",
        "outputId": "53e4ffad-b579-427f-b045-052964e2d0dc"
      },
      "outputs": [
        {
          "output_type": "execute_result",
          "data": {
            "text/plain": [
              "Index(['308511', '308512', '311903', '311974', '312010', '312098', '312103',\n",
              "       '312132', '312133', '312134',\n",
              "       ...\n",
              "       '3420042', '3420051', '3420055', '3420058', '3420059', '3422101',\n",
              "       '3422102', '3423061', '3423101', '3423105'],\n",
              "      dtype='object', length=988)"
            ]
          },
          "metadata": {},
          "execution_count": 16
        }
      ],
      "source": [
        "adj.columns"
      ]
    },
    {
      "cell_type": "code",
      "execution_count": null,
      "metadata": {
        "colab": {
          "base_uri": "https://localhost:8080/"
        },
        "id": "30gRZksGmbp1",
        "outputId": "62cf92e5-9be3-4e3a-a6ef-244090fa6ac4"
      },
      "outputs": [
        {
          "output_type": "execute_result",
          "data": {
            "text/plain": [
              "Index([ 308511,  308512,  311903,  311974,  312010,  312098,  312103,  312132,\n",
              "        312133,  312134,\n",
              "       ...\n",
              "       3420058, 3420059, 3422101, 3422102, 3423061, 3423091, 3423094, 3423101,\n",
              "       3423105, 3423106],\n",
              "      dtype='int64', name='ID', length=1007)"
            ]
          },
          "metadata": {},
          "execution_count": 17
        }
      ],
      "source": [
        "flow_df.columns"
      ]
    },
    {
      "cell_type": "code",
      "execution_count": null,
      "metadata": {
        "colab": {
          "base_uri": "https://localhost:8080/"
        },
        "id": "kdSHD-oGmfCh",
        "outputId": "83c9284b-e300-4daa-ce6c-9e0b9bae3a35"
      },
      "outputs": [
        {
          "output_type": "execute_result",
          "data": {
            "text/plain": [
              "[316699,\n",
              " 316704,\n",
              " 318611,\n",
              " 318612,\n",
              " 318619,\n",
              " 318620,\n",
              " 3005052,\n",
              " 3025111,\n",
              " 3025112,\n",
              " 3025113,\n",
              " 3025114,\n",
              " 3045021,\n",
              " 3045022,\n",
              " 3088011,\n",
              " 3088012,\n",
              " 3089061,\n",
              " 3423091,\n",
              " 3423094,\n",
              " 3423106]"
            ]
          },
          "metadata": {},
          "execution_count": 18
        }
      ],
      "source": [
        "missing_columns = [col for col in flow_df.columns if str(col) not in adj.columns]\n",
        "missing_columns"
      ]
    },
    {
      "cell_type": "code",
      "execution_count": null,
      "metadata": {
        "id": "oNCTMOWPnC64"
      },
      "outputs": [],
      "source": [
        "flow_df.drop(missing_columns, axis=1, inplace=True)\n",
        "speed_df.drop(missing_columns, axis=1, inplace=True)"
      ]
    },
    {
      "cell_type": "code",
      "execution_count": null,
      "metadata": {
        "colab": {
          "base_uri": "https://localhost:8080/"
        },
        "id": "yhj6wxkQnOdX",
        "outputId": "47bb6084-8157-4a66-906a-40dc16108115"
      },
      "outputs": [
        {
          "output_type": "execute_result",
          "data": {
            "text/plain": [
              "((8352, 988), (8352, 988), (988, 988))"
            ]
          },
          "metadata": {},
          "execution_count": 20
        }
      ],
      "source": [
        "speed_df.shape, flow_df.shape, adj.shape"
      ]
    },
    {
      "cell_type": "markdown",
      "metadata": {
        "id": "0sps_pfFRv63"
      },
      "source": [
        "# Create Distance-based matrix\n"
      ]
    },
    {
      "cell_type": "code",
      "execution_count": null,
      "metadata": {
        "colab": {
          "base_uri": "https://localhost:8080/"
        },
        "id": "F6ISl7oqTEZg",
        "outputId": "55937748-2170-40cb-ee78-06af8078eb34"
      },
      "outputs": [
        {
          "output_type": "stream",
          "name": "stdout",
          "text": [
            "Collecting haversine\n",
            "  Downloading haversine-2.8.1-py2.py3-none-any.whl (7.7 kB)\n",
            "Installing collected packages: haversine\n",
            "Successfully installed haversine-2.8.1\n"
          ]
        }
      ],
      "source": [
        "!pip install haversine"
      ]
    },
    {
      "cell_type": "code",
      "execution_count": null,
      "metadata": {
        "id": "WJp6qh0fVOKI"
      },
      "outputs": [],
      "source": [
        "import haversine\n",
        "\n",
        "def create_distance_matrix(a):\n",
        "  # Get the coordinates of each station from the metadata dataframe.\n",
        "  longitude = metadata.set_index('ID')['Longitude'].to_dict()\n",
        "  latitude = metadata.set_index('ID')['Latitude'].to_dict()\n",
        "  coordinates = {id: ( latitude[id], longitude[id]) for id in a.columns}\n",
        "  # Initialize the distance matrix.\n",
        "  distance_matrix = np.zeros((len(a.columns), len(a.columns)))\n",
        "\n",
        "  # Iterate over each pair of stations and calculate the distance.\n",
        "  for i, index in enumerate(a.columns):\n",
        "    for j, s_index in enumerate(a.columns):\n",
        "      station_1_id = index\n",
        "      station_2_id = s_index\n",
        "      station_1_coordinates = coordinates[station_1_id]\n",
        "      station_2_coordinates = coordinates[station_2_id]\n",
        "      distance_matrix[i][j] = haversine.haversine(station_1_coordinates, station_2_coordinates)\n",
        "\n",
        "  return distance_matrix\n",
        "\n",
        "distance_matrix = create_distance_matrix(flow_df)\n"
      ]
    },
    {
      "cell_type": "markdown",
      "metadata": {
        "id": "fSepEGJJciAk"
      },
      "source": [
        "# Train val and test split"
      ]
    },
    {
      "cell_type": "code",
      "execution_count": null,
      "metadata": {
        "id": "_Z1U1jU4cgwa"
      },
      "outputs": [],
      "source": [
        "flow_train = flow_df[0:6000]\n",
        "flow_val = flow_df[6000:7000]\n",
        "flow_test = flow_df[7000:]\n",
        "\n",
        "speed_train = speed_df[0:6000]\n",
        "speed_val = speed_df[6000:7000]\n",
        "speed_test = speed_df[7000:]"
      ]
    },
    {
      "cell_type": "markdown",
      "metadata": {
        "id": "fg3dy_l2cWrD"
      },
      "source": [
        "# Similarity based matrix"
      ]
    },
    {
      "cell_type": "code",
      "execution_count": null,
      "metadata": {
        "id": "fW2Tnf5gggL5"
      },
      "outputs": [],
      "source": [
        "adj_similar = np.corrcoef(speed_train, rowvar=False)"
      ]
    },
    {
      "cell_type": "code",
      "execution_count": null,
      "metadata": {
        "id": "RbF4oS4EcdeU"
      },
      "outputs": [],
      "source": [
        "for i in range(len(adj_similar)):\n",
        "  adj_similar[i][i] = 0"
      ]
    },
    {
      "cell_type": "markdown",
      "metadata": {
        "id": "SPd907maRKtH"
      },
      "source": [
        "# Data to GCN LSTM format"
      ]
    },
    {
      "cell_type": "code",
      "execution_count": null,
      "metadata": {
        "id": "ExLxnb0Upe8t"
      },
      "outputs": [],
      "source": [
        "from tensorflow.keras.preprocessing import timeseries_dataset_from_array\n",
        "\n",
        "batch_size = 64\n",
        "input_sequence_length = 24\n",
        "forecast_horizon = 1\n",
        "multi_horizon = False\n",
        "\n",
        "\n",
        "def create_tf_dataset(\n",
        "    data_array: np.ndarray,\n",
        "    target_array: np.ndarray,\n",
        "    input_sequence_length: int,\n",
        "    forecast_horizon: int,\n",
        "    batch_size: int = 128,\n",
        "    shuffle=True,\n",
        "    multi_horizon=True,\n",
        "):\n",
        "    \"\"\"Creates tensorflow dataset from numpy array.\n",
        "\n",
        "    This function creates a dataset where each element is a tuple `(inputs, targets)`.\n",
        "    `inputs` is a Tensor\n",
        "    of shape `(batch_size, input_sequence_length, num_routes, 1)` containing\n",
        "    the `input_sequence_length` past values of the timeseries for each node.\n",
        "    `targets` is a Tensor of shape `(batch_size, forecast_horizon, num_routes)`\n",
        "    containing the `forecast_horizon`\n",
        "    future values of the timeseries for each node.\n",
        "\n",
        "    Args:\n",
        "        data_array: np.ndarray with shape `(num_time_steps, num_routes)`\n",
        "        input_sequence_length: Length of the input sequence (in number of timesteps).\n",
        "        forecast_horizon: If `multi_horizon=True`, the target will be the values of the timeseries for 1 to\n",
        "            `forecast_horizon` timesteps ahead. If `multi_horizon=False`, the target will be the value of the\n",
        "            timeseries `forecast_horizon` steps ahead (only one value).\n",
        "        batch_size: Number of timeseries samples in each batch.\n",
        "        shuffle: Whether to shuffle output samples, or instead draw them in chronological order.\n",
        "        multi_horizon: See `forecast_horizon`.\n",
        "\n",
        "    Returns:\n",
        "        A tf.data.Dataset instance.\n",
        "    \"\"\"\n",
        "\n",
        "    inputs = timeseries_dataset_from_array(\n",
        "        np.expand_dims(data_array[:-forecast_horizon], axis=-1),\n",
        "        None,\n",
        "        sequence_length=input_sequence_length,\n",
        "        shuffle=False,\n",
        "        batch_size=batch_size,\n",
        "    )\n",
        "\n",
        "    target_offset = (\n",
        "        input_sequence_length\n",
        "        if multi_horizon\n",
        "        else input_sequence_length + forecast_horizon - 1\n",
        "    )\n",
        "    target_seq_length = forecast_horizon if multi_horizon else 1\n",
        "    targets = timeseries_dataset_from_array(\n",
        "        target_array[target_offset:],\n",
        "        None,\n",
        "        sequence_length=target_seq_length,\n",
        "        shuffle=False,\n",
        "        batch_size=batch_size,\n",
        "    )\n",
        "\n",
        "    dataset = tf.data.Dataset.zip((inputs, targets))\n",
        "    if shuffle:\n",
        "        dataset = dataset.shuffle(100)\n",
        "\n",
        "    return dataset.prefetch(16).cache()\n",
        "\n",
        "\n",
        "train_dataset = create_tf_dataset(\n",
        "    flow_train,\n",
        "    flow_train,\n",
        "    input_sequence_length,\n",
        "    forecast_horizon,\n",
        "    batch_size=batch_size,\n",
        "    shuffle=False,\n",
        "    multi_horizon=multi_horizon,\n",
        ")\n",
        "\n",
        "val_dataset = create_tf_dataset(\n",
        "    flow_val,\n",
        "    flow_val,\n",
        "    input_sequence_length,\n",
        "    forecast_horizon,\n",
        "    batch_size=batch_size,\n",
        "    shuffle=False,\n",
        "    multi_horizon=multi_horizon,\n",
        ")\n",
        "\n",
        "\n",
        "test_dataset = create_tf_dataset(\n",
        "    flow_test,\n",
        "    flow_test,\n",
        "    input_sequence_length,\n",
        "    forecast_horizon,\n",
        "    batch_size=speed_test.shape[0],\n",
        "    shuffle=False,\n",
        "    multi_horizon=multi_horizon,\n",
        ")\n"
      ]
    },
    {
      "cell_type": "code",
      "execution_count": null,
      "metadata": {
        "colab": {
          "base_uri": "https://localhost:8080/"
        },
        "id": "Sek-kJqWVFIM",
        "outputId": "bc4a9eda-c09e-4986-cc86-5d04f96480fe"
      },
      "outputs": [
        {
          "data": {
            "text/plain": [
              "TensorSpec(shape=(None, None, 988, 1), dtype=tf.float64, name=None)"
            ]
          },
          "execution_count": 24,
          "metadata": {},
          "output_type": "execute_result"
        }
      ],
      "source": [
        "train_dataset.element_spec[0]"
      ]
    },
    {
      "cell_type": "code",
      "execution_count": null,
      "metadata": {
        "id": "szyAJUQ4RO6-"
      },
      "outputs": [],
      "source": [
        "def compute_adjacency_matrix(\n",
        "    route_distances: np.ndarray, sigma2: float, epsilon: float\n",
        "):\n",
        "    \"\"\"Computes the adjacency matrix from distances matrix.\n",
        "\n",
        "    It uses the formula in https://github.com/VeritasYin/STGCN_IJCAI-18#data-preprocessing to\n",
        "    compute an adjacency matrix from the distance matrix.\n",
        "    The implementation follows that paper.\n",
        "\n",
        "    Args:\n",
        "        route_distances: np.ndarray of shape `(num_routes, num_routes)`. Entry `i,j` of this array is the\n",
        "            distance between roads `i,j`.\n",
        "        sigma2: Determines the width of the Gaussian kernel applied to the square distances matrix.\n",
        "        epsilon: A threshold specifying if there is an edge between two nodes. Specifically, `A[i,j]=1`\n",
        "            if `np.exp(-w2[i,j] / sigma2) >= epsilon` and `A[i,j]=0` otherwise, where `A` is the adjacency\n",
        "            matrix and `w2=route_distances * route_distances`\n",
        "\n",
        "    Returns:\n",
        "        A boolean graph adjacency matrix.\n",
        "    \"\"\"\n",
        "    num_routes = route_distances.shape[0]\n",
        "    #route_distances = route_distances / 10000.0\n",
        "    w2, w_mask = (\n",
        "        route_distances * route_distances,\n",
        "        np.ones([num_routes, num_routes]) - np.identity(num_routes),\n",
        "    )\n",
        "    return (np.exp(-w2 / sigma2) >= epsilon) * w_mask"
      ]
    },
    {
      "cell_type": "code",
      "execution_count": null,
      "metadata": {
        "colab": {
          "base_uri": "https://localhost:8080/"
        },
        "id": "gsTNhZ2TROOV",
        "outputId": "54009fb5-9052-4cfe-d3c7-ca12d9bbbf75"
      },
      "outputs": [
        {
          "output_type": "stream",
          "name": "stdout",
          "text": [
            "number of nodes: 988, number of edges: 3152\n"
          ]
        }
      ],
      "source": [
        "import typing\n",
        "\n",
        "class GraphInfo:\n",
        "    def __init__(self, edges: typing.Tuple[list, list], num_nodes: int):\n",
        "        self.edges = edges\n",
        "        self.num_nodes = num_nodes\n",
        "\n",
        "\n",
        "sigma2 = 0.1\n",
        "epsilon = 0.5\n",
        "adjacency_matrix = compute_adjacency_matrix(distance_matrix, sigma2, epsilon)\n",
        "node_indices, neighbor_indices = np.where(adjacency_matrix == 1)\n",
        "graph = GraphInfo(\n",
        "    edges=(node_indices.tolist(), neighbor_indices.tolist()),\n",
        "    num_nodes=adjacency_matrix.shape[0],\n",
        ")\n",
        "print(f\"number of nodes: {graph.num_nodes}, number of edges: {len(graph.edges[0])}\")"
      ]
    },
    {
      "cell_type": "code",
      "execution_count": null,
      "metadata": {
        "colab": {
          "base_uri": "https://localhost:8080/"
        },
        "id": "7SXXA1sjl4EI",
        "outputId": "573d7929-283b-4cb1-8f4e-4ac74fa93433"
      },
      "outputs": [
        {
          "output_type": "stream",
          "name": "stdout",
          "text": [
            "number of nodes: 988, number of edges: 3448\n"
          ]
        }
      ],
      "source": [
        "import typing\n",
        "\n",
        "class GraphInfo:\n",
        "    def __init__(self, edges: typing.Tuple[list, list], num_nodes: int):\n",
        "        self.edges = edges\n",
        "        self.num_nodes = num_nodes\n",
        "\n",
        "node_indices, neighbor_indices = np.where(adj_similar > 0.98)\n",
        "graph = GraphInfo(\n",
        "    edges=(node_indices.tolist(), neighbor_indices.tolist()),\n",
        "    num_nodes=adj.shape[0],\n",
        ")\n",
        "print(f\"number of nodes: {graph.num_nodes}, number of edges: {len(graph.edges[0])}\")"
      ]
    },
    {
      "cell_type": "code",
      "execution_count": null,
      "metadata": {
        "id": "wCnJLVsYmMCA"
      },
      "outputs": [],
      "source": [
        "class GraphConv(layers.Layer):\n",
        "    def __init__(\n",
        "        self,\n",
        "        in_feat,\n",
        "        out_feat,\n",
        "        graph_info: GraphInfo,\n",
        "        aggregation_type=\"mean\",\n",
        "        combination_type=\"concat\",\n",
        "        activation: typing.Optional[str] = None,\n",
        "        **kwargs,\n",
        "    ):\n",
        "        super().__init__(**kwargs)\n",
        "        self.in_feat = in_feat\n",
        "        self.out_feat = out_feat\n",
        "        self.graph_info = graph_info\n",
        "        self.aggregation_type = aggregation_type\n",
        "        self.combination_type = combination_type\n",
        "        self.weight = tf.Variable(\n",
        "            initial_value=keras.initializers.glorot_uniform()(\n",
        "                shape=(in_feat, out_feat), dtype=\"float32\"\n",
        "            ),\n",
        "            trainable=True,\n",
        "        )\n",
        "        self.activation = layers.Activation(activation)\n",
        "\n",
        "    def aggregate(self, neighbour_representations: tf.Tensor):\n",
        "        aggregation_func = {\n",
        "            \"sum\": tf.math.unsorted_segment_sum,\n",
        "            \"mean\": tf.math.unsorted_segment_mean,\n",
        "            \"max\": tf.math.unsorted_segment_max,\n",
        "        }.get(self.aggregation_type)\n",
        "\n",
        "        if aggregation_func:\n",
        "            return aggregation_func(\n",
        "                neighbour_representations,\n",
        "                self.graph_info.edges[0],\n",
        "                num_segments=self.graph_info.num_nodes,\n",
        "            )\n",
        "\n",
        "        raise ValueError(f\"Invalid aggregation type: {self.aggregation_type}\")\n",
        "\n",
        "    def compute_nodes_representation(self, features: tf.Tensor):\n",
        "        \"\"\"Computes each node's representation.\n",
        "\n",
        "        The nodes' representations are obtained by multiplying the features tensor with\n",
        "        `self.weight`. Note that\n",
        "        `self.weight` has shape `(in_feat, out_feat)`.\n",
        "\n",
        "        Args:\n",
        "            features: Tensor of shape `(num_nodes, batch_size, input_seq_len, in_feat)`\n",
        "\n",
        "        Returns:\n",
        "            A tensor of shape `(num_nodes, batch_size, input_seq_len, out_feat)`\n",
        "        \"\"\"\n",
        "        return tf.matmul(features, self.weight)\n",
        "\n",
        "    def compute_aggregated_messages(self, features: tf.Tensor):\n",
        "        neighbour_representations = tf.gather(features, self.graph_info.edges[1])\n",
        "        aggregated_messages = self.aggregate(neighbour_representations)\n",
        "        return tf.matmul(aggregated_messages, self.weight)\n",
        "\n",
        "    def update(self, nodes_representation: tf.Tensor, aggregated_messages: tf.Tensor):\n",
        "        if self.combination_type == \"concat\":\n",
        "            h = tf.concat([nodes_representation, aggregated_messages], axis=-1)\n",
        "        elif self.combination_type == \"add\":\n",
        "            h = nodes_representation + aggregated_messages\n",
        "        else:\n",
        "            raise ValueError(f\"Invalid combination type: {self.combination_type}.\")\n",
        "\n",
        "        return self.activation(h)\n",
        "\n",
        "    def call(self, features: tf.Tensor):\n",
        "        \"\"\"Forward pass.\n",
        "\n",
        "        Args:\n",
        "            features: tensor of shape `(num_nodes, batch_size, input_seq_len, in_feat)`\n",
        "\n",
        "        Returns:\n",
        "            A tensor of shape `(num_nodes, batch_size, input_seq_len, out_feat)`\n",
        "        \"\"\"\n",
        "        nodes_representation = self.compute_nodes_representation(features)\n",
        "        aggregated_messages = self.compute_aggregated_messages(features)\n",
        "        return self.update(nodes_representation, aggregated_messages)"
      ]
    },
    {
      "cell_type": "code",
      "execution_count": null,
      "metadata": {
        "id": "2nJxDBWUmoZE"
      },
      "outputs": [],
      "source": [
        "class LSTMGC(layers.Layer):\n",
        "    \"\"\"Layer comprising a convolution layer followed by LSTM and dense layers.\"\"\"\n",
        "\n",
        "    def __init__(\n",
        "        self,\n",
        "        in_feat,\n",
        "        out_feat,\n",
        "        lstm_units: int,\n",
        "        input_seq_len: int,\n",
        "        output_seq_len: int,\n",
        "        graph_info: GraphInfo,\n",
        "        graph_conv_params: typing.Optional[dict] = None,\n",
        "        **kwargs,\n",
        "    ):\n",
        "        super().__init__(**kwargs)\n",
        "\n",
        "        # graph conv layer\n",
        "        if graph_conv_params is None:\n",
        "            graph_conv_params = {\n",
        "                \"aggregation_type\": \"mean\",\n",
        "                \"combination_type\": \"concat\",\n",
        "                \"activation\": None,\n",
        "            }\n",
        "        self.graph_conv = GraphConv(in_feat, out_feat, graph_info, **graph_conv_params)\n",
        "\n",
        "        self.lstm = layers.LSTM(lstm_units, activation=\"relu\")\n",
        "        self.dense = layers.Dense(output_seq_len)\n",
        "\n",
        "        self.input_seq_len, self.output_seq_len = input_seq_len, output_seq_len\n",
        "\n",
        "    def call(self, inputs):\n",
        "        \"\"\"Forward pass.\n",
        "\n",
        "        Args:\n",
        "            inputs: tf.Tensor of shape `(batch_size, input_seq_len, num_nodes, in_feat)`\n",
        "\n",
        "        Returns:\n",
        "            A tensor of shape `(batch_size, output_seq_len, num_nodes)`.\n",
        "        \"\"\"\n",
        "\n",
        "        # convert shape to  (num_nodes, batch_size, input_seq_len, in_feat)\n",
        "        inputs = tf.transpose(inputs, [2, 0, 1, 3])\n",
        "\n",
        "        gcn_out = self.graph_conv(\n",
        "            inputs\n",
        "        )  # gcn_out has shape: (num_nodes, batch_size, input_seq_len, out_feat)\n",
        "        shape = tf.shape(gcn_out)\n",
        "        num_nodes, batch_size, input_seq_len, out_feat = (\n",
        "            shape[0],\n",
        "            shape[1],\n",
        "            shape[2],\n",
        "            shape[3],\n",
        "        )\n",
        "\n",
        "        # LSTM takes only 3D tensors as input\n",
        "        gcn_out = tf.reshape(gcn_out, (batch_size * num_nodes, input_seq_len, out_feat))\n",
        "        lstm_out = self.lstm(\n",
        "            gcn_out\n",
        "        )  # lstm_out has shape: (batch_size * num_nodes, lstm_units)\n",
        "        #add another lstm\n",
        "\n",
        "        dense_output = self.dense(\n",
        "            lstm_out\n",
        "        )  # dense_output has shape: (batch_size * num_nodes, output_seq_len)\n",
        "        output = tf.reshape(dense_output, (num_nodes, batch_size, self.output_seq_len))\n",
        "        return tf.transpose(\n",
        "            output, [1, 2, 0]\n",
        "        )  # returns Tensor of shape (batch_size, output_seq_len, num_nodes)"
      ]
    },
    {
      "cell_type": "code",
      "execution_count": null,
      "metadata": {
        "colab": {
          "base_uri": "https://localhost:8080/"
        },
        "id": "kVR5aziUs_vB",
        "outputId": "8210cbc9-6c96-4327-93de-eb5b6ef7b01f"
      },
      "outputs": [
        {
          "data": {
            "text/plain": [
              "<CacheDataset element_spec=(TensorSpec(shape=(None, None, 988, 1), dtype=tf.float64, name=None), TensorSpec(shape=(None, None, 988), dtype=tf.float64, name=None))>"
            ]
          },
          "execution_count": 28,
          "metadata": {},
          "output_type": "execute_result"
        }
      ],
      "source": [
        "train_dataset"
      ]
    },
    {
      "cell_type": "code",
      "execution_count": null,
      "metadata": {
        "colab": {
          "base_uri": "https://localhost:8080/"
        },
        "id": "qJhy67O1mzGy",
        "outputId": "52bd9774-1f17-46c9-887c-2af9371286bb"
      },
      "outputs": [
        {
          "output_type": "stream",
          "name": "stderr",
          "text": [
            "WARNING:tensorflow:Layer lstm_3 will not use cuDNN kernels since it doesn't meet the criteria. It will use a generic GPU kernel as fallback when running on GPU.\n"
          ]
        },
        {
          "output_type": "stream",
          "name": "stdout",
          "text": [
            "Epoch 1/20\n",
            "94/94 [==============================] - 8s 67ms/step - loss: 134.1485 - val_loss: 138.0503\n",
            "Epoch 2/20\n",
            "94/94 [==============================] - 6s 65ms/step - loss: 136.4696 - val_loss: 122.4408\n",
            "Epoch 3/20\n",
            "94/94 [==============================] - 6s 64ms/step - loss: 120.6268 - val_loss: 117.3374\n",
            "Epoch 4/20\n",
            "94/94 [==============================] - 6s 65ms/step - loss: 121.5798 - val_loss: 116.7764\n",
            "Epoch 5/20\n",
            "94/94 [==============================] - 6s 64ms/step - loss: 114.7248 - val_loss: 107.9821\n",
            "Epoch 6/20\n",
            "94/94 [==============================] - 6s 65ms/step - loss: 109.2666 - val_loss: 102.4356\n",
            "Epoch 7/20\n",
            "94/94 [==============================] - 6s 65ms/step - loss: 100.4838 - val_loss: 90.3618\n",
            "Epoch 8/20\n",
            "94/94 [==============================] - 6s 65ms/step - loss: 89.4852 - val_loss: 84.3539\n",
            "Epoch 9/20\n",
            "94/94 [==============================] - 6s 65ms/step - loss: 81.2729 - val_loss: 75.2613\n",
            "Epoch 10/20\n",
            "94/94 [==============================] - 6s 65ms/step - loss: 75.1136 - val_loss: 71.1847\n",
            "Epoch 11/20\n",
            "94/94 [==============================] - 6s 65ms/step - loss: 71.1946 - val_loss: 66.3723\n",
            "Epoch 12/20\n",
            "94/94 [==============================] - 6s 65ms/step - loss: 66.4155 - val_loss: 62.6337\n",
            "Epoch 13/20\n",
            "94/94 [==============================] - 6s 65ms/step - loss: 63.6164 - val_loss: 61.7217\n",
            "Epoch 14/20\n",
            "94/94 [==============================] - 6s 65ms/step - loss: 61.4369 - val_loss: 57.4033\n",
            "Epoch 15/20\n",
            "94/94 [==============================] - 6s 65ms/step - loss: 59.6153 - val_loss: 57.5311\n",
            "Epoch 16/20\n",
            "94/94 [==============================] - 6s 65ms/step - loss: 57.4975 - val_loss: 53.6155\n",
            "Epoch 17/20\n",
            "94/94 [==============================] - 6s 65ms/step - loss: 55.2920 - val_loss: 52.1546\n",
            "Epoch 18/20\n",
            "94/94 [==============================] - 6s 65ms/step - loss: 52.4393 - val_loss: 49.8316\n",
            "Epoch 19/20\n",
            "94/94 [==============================] - 6s 65ms/step - loss: 51.3143 - val_loss: 48.0588\n",
            "Epoch 20/20\n",
            "94/94 [==============================] - 6s 65ms/step - loss: 50.4214 - val_loss: 49.3764\n"
          ]
        },
        {
          "output_type": "execute_result",
          "data": {
            "text/plain": [
              "<keras.src.callbacks.History at 0x7dcfea8ee320>"
            ]
          },
          "metadata": {},
          "execution_count": 92
        }
      ],
      "source": [
        "in_feat = 1\n",
        "batch_size = 64\n",
        "epochs = 20\n",
        "input_sequence_length = 24\n",
        "forecast_horizon = 1\n",
        "multi_horizon = False\n",
        "out_feat = 10\n",
        "lstm_units = 64\n",
        "graph_conv_params = {\n",
        "    \"aggregation_type\": \"mean\",\n",
        "    \"combination_type\": \"concat\",\n",
        "    \"activation\": None,\n",
        "}\n",
        "\n",
        "st_gcn = LSTMGC(\n",
        "    in_feat,\n",
        "    out_feat,\n",
        "    lstm_units,\n",
        "    input_sequence_length,\n",
        "    forecast_horizon,\n",
        "    graph,\n",
        "    graph_conv_params,\n",
        ")\n",
        "inputs = layers.Input((input_sequence_length, graph.num_nodes, in_feat))\n",
        "outputs = st_gcn(inputs)\n",
        "\n",
        "model = keras.models.Model(inputs, outputs)\n",
        "model.compile(\n",
        "    optimizer=keras.optimizers.RMSprop(learning_rate=0.00005),\n",
        "    loss=keras.losses.MeanAbsoluteError(),\n",
        ")\n",
        "model.fit(\n",
        "    train_dataset,\n",
        "    validation_data=val_dataset,\n",
        "    epochs=epochs,\n",
        "    callbacks=[keras.callbacks.EarlyStopping(patience=10)],\n",
        ")"
      ]
    },
    {
      "cell_type": "code",
      "execution_count": null,
      "metadata": {
        "colab": {
          "base_uri": "https://localhost:8080/"
        },
        "id": "V_eMed0nh2KA",
        "outputId": "a157356c-809f-4ec0-8de9-bdc1bcb9810c"
      },
      "outputs": [
        {
          "output_type": "stream",
          "name": "stdout",
          "text": [
            "Epoch 1/100\n",
            "94/94 [==============================] - 6s 65ms/step - loss: 49.3493 - val_loss: 46.3119\n",
            "Epoch 2/100\n",
            "94/94 [==============================] - 6s 65ms/step - loss: 47.5913 - val_loss: 43.9802\n",
            "Epoch 3/100\n",
            "94/94 [==============================] - 6s 65ms/step - loss: 46.2173 - val_loss: 44.4513\n",
            "Epoch 4/100\n",
            "94/94 [==============================] - 6s 65ms/step - loss: 44.8397 - val_loss: 42.4040\n",
            "Epoch 5/100\n",
            "94/94 [==============================] - 6s 65ms/step - loss: 42.2063 - val_loss: 40.8182\n",
            "Epoch 6/100\n",
            "94/94 [==============================] - 6s 65ms/step - loss: 42.3823 - val_loss: 42.7359\n",
            "Epoch 7/100\n",
            "94/94 [==============================] - 6s 65ms/step - loss: 41.4754 - val_loss: 37.7491\n",
            "Epoch 8/100\n",
            "94/94 [==============================] - 6s 65ms/step - loss: 37.2776 - val_loss: 34.3921\n",
            "Epoch 9/100\n",
            "94/94 [==============================] - 6s 65ms/step - loss: 35.2614 - val_loss: 34.6459\n",
            "Epoch 10/100\n",
            "94/94 [==============================] - 6s 65ms/step - loss: 36.6719 - val_loss: 34.6339\n",
            "Epoch 11/100\n",
            "94/94 [==============================] - 6s 64ms/step - loss: 35.3643 - val_loss: 32.7201\n",
            "Epoch 12/100\n",
            "94/94 [==============================] - 6s 65ms/step - loss: 33.3786 - val_loss: 33.3535\n",
            "Epoch 13/100\n",
            "94/94 [==============================] - 6s 65ms/step - loss: 33.3625 - val_loss: 31.9576\n",
            "Epoch 14/100\n",
            "94/94 [==============================] - 6s 65ms/step - loss: 32.2113 - val_loss: 31.4028\n",
            "Epoch 15/100\n",
            "94/94 [==============================] - 6s 65ms/step - loss: 32.1962 - val_loss: 30.9504\n",
            "Epoch 16/100\n",
            "94/94 [==============================] - 6s 64ms/step - loss: 33.3226 - val_loss: 38.1977\n",
            "Epoch 17/100\n",
            "94/94 [==============================] - 6s 65ms/step - loss: 45.0680 - val_loss: 48.6658\n",
            "Epoch 18/100\n",
            "94/94 [==============================] - 6s 64ms/step - loss: 49.4199 - val_loss: 45.6433\n",
            "Epoch 19/100\n",
            "94/94 [==============================] - 6s 64ms/step - loss: 44.0741 - val_loss: 44.2821\n",
            "Epoch 20/100\n",
            "94/94 [==============================] - 6s 64ms/step - loss: 43.5637 - val_loss: 41.4303\n",
            "Epoch 21/100\n",
            "94/94 [==============================] - 6s 64ms/step - loss: 36.1651 - val_loss: 27.6063\n",
            "Epoch 22/100\n",
            "94/94 [==============================] - 6s 64ms/step - loss: 28.5501 - val_loss: 27.6252\n",
            "Epoch 23/100\n",
            "94/94 [==============================] - 6s 64ms/step - loss: 29.3922 - val_loss: 29.2157\n",
            "Epoch 24/100\n",
            "94/94 [==============================] - 6s 64ms/step - loss: 28.3920 - val_loss: 26.6854\n",
            "Epoch 25/100\n",
            "94/94 [==============================] - 6s 65ms/step - loss: 26.0080 - val_loss: 23.9417\n",
            "Epoch 26/100\n",
            "94/94 [==============================] - 6s 65ms/step - loss: 24.3802 - val_loss: 23.5376\n",
            "Epoch 27/100\n",
            "94/94 [==============================] - 6s 65ms/step - loss: 24.1348 - val_loss: 22.8039\n",
            "Epoch 28/100\n",
            "94/94 [==============================] - 6s 64ms/step - loss: 23.2892 - val_loss: 21.8965\n",
            "Epoch 29/100\n",
            "94/94 [==============================] - 6s 65ms/step - loss: 23.0765 - val_loss: 23.5808\n",
            "Epoch 30/100\n",
            "94/94 [==============================] - 6s 64ms/step - loss: 26.5528 - val_loss: 25.4548\n",
            "Epoch 31/100\n",
            "94/94 [==============================] - 6s 64ms/step - loss: 26.8886 - val_loss: 26.7960\n",
            "Epoch 32/100\n",
            "94/94 [==============================] - 6s 64ms/step - loss: 27.8725 - val_loss: 25.8624\n",
            "Epoch 33/100\n",
            "94/94 [==============================] - 6s 64ms/step - loss: 24.8847 - val_loss: 23.4316\n",
            "Epoch 34/100\n",
            "94/94 [==============================] - 6s 64ms/step - loss: 24.5821 - val_loss: 24.1767\n",
            "Epoch 35/100\n",
            "94/94 [==============================] - 6s 64ms/step - loss: 25.4984 - val_loss: 24.8015\n",
            "Epoch 36/100\n",
            "94/94 [==============================] - 6s 65ms/step - loss: 25.5041 - val_loss: 24.8290\n",
            "Epoch 37/100\n",
            "94/94 [==============================] - 6s 65ms/step - loss: 25.3959 - val_loss: 23.8853\n",
            "Epoch 38/100\n",
            "94/94 [==============================] - 6s 65ms/step - loss: 23.8511 - val_loss: 22.6523\n"
          ]
        },
        {
          "output_type": "execute_result",
          "data": {
            "text/plain": [
              "<keras.src.callbacks.History at 0x7dcfeab5e3e0>"
            ]
          },
          "metadata": {},
          "execution_count": 93
        }
      ],
      "source": [
        "model.fit(\n",
        "    train_dataset,\n",
        "    validation_data=val_dataset,\n",
        "    epochs=100,\n",
        "    callbacks=[keras.callbacks.EarlyStopping(patience=10)],\n",
        ")"
      ]
    },
    {
      "cell_type": "code",
      "execution_count": null,
      "metadata": {
        "id": "cXlE7Mwcp98B"
      },
      "outputs": [],
      "source": [
        "# prompt: Save the model to my google drive\n",
        "\n",
        "model.save('gdrive/MyDrive/לימודים תואר שני/thesis/models/flow_similarity_matrix_gnn_model.csv')\n"
      ]
    },
    {
      "cell_type": "code",
      "execution_count": null,
      "metadata": {
        "id": "zCeaLtKYkoBk"
      },
      "outputs": [],
      "source": [
        "model.compile(\n",
        "    optimizer=keras.optimizers.RMSprop(learning_rate=0.000005),\n",
        "    loss=keras.losses.MeanSquaredError(),\n",
        ")"
      ]
    },
    {
      "cell_type": "code",
      "execution_count": null,
      "metadata": {
        "colab": {
          "base_uri": "https://localhost:8080/"
        },
        "id": "lteZcbITBano",
        "outputId": "cd073969-bb55-4198-9c8c-bd9155898ff5"
      },
      "outputs": [
        {
          "output_type": "stream",
          "name": "stdout",
          "text": [
            "42/42 [==============================] - 1s 14ms/step\n"
          ]
        }
      ],
      "source": [
        "x_test, y_test = next(test_dataset.as_numpy_iterator())\n",
        "y_pred = model.predict(x_test)"
      ]
    },
    {
      "cell_type": "code",
      "execution_count": null,
      "metadata": {
        "colab": {
          "base_uri": "https://localhost:8080/"
        },
        "id": "9J4hc_svBmdI",
        "outputId": "c8d48958-3391-440e-9262-6277286fa55c"
      },
      "outputs": [
        {
          "data": {
            "text/plain": [
              "(1328, 1, 988)"
            ]
          },
          "execution_count": 139,
          "metadata": {},
          "output_type": "execute_result"
        }
      ],
      "source": [
        "y_pred.shape"
      ]
    },
    {
      "cell_type": "code",
      "execution_count": null,
      "metadata": {
        "id": "rLsWv2EWDOvt"
      },
      "outputs": [],
      "source": [
        "y_pred = y_pred.reshape((1328, 988))"
      ]
    },
    {
      "cell_type": "code",
      "execution_count": null,
      "metadata": {
        "id": "gISH8ysSnl7S"
      },
      "outputs": [],
      "source": [
        "y_test = y_test.reshape((1328,988))"
      ]
    },
    {
      "cell_type": "code",
      "source": [
        "from sklearn.metrics import mean_absolute_percentage_error\n",
        "mape = []\n",
        "for i in range(0,y_pred.shape[1]):\n",
        "  mape.append(mean_absolute_percentage_error(y_pred[:,i], y_test[:,i]))\n",
        "\n",
        "mape_score = np.mean(mape)"
      ],
      "metadata": {
        "id": "0Q8ozYPek6vq"
      },
      "execution_count": null,
      "outputs": []
    },
    {
      "cell_type": "code",
      "execution_count": null,
      "metadata": {
        "colab": {
          "base_uri": "https://localhost:8080/"
        },
        "id": "bCc5gXKcDVNs",
        "outputId": "0f6ce88a-aa3e-4192-c91a-facedc2b87f6"
      },
      "outputs": [
        {
          "output_type": "stream",
          "name": "stdout",
          "text": [
            "Mean Squared Error: 391.25397363801414\n",
            "R-squared: 0.88127454310622\n",
            "Mean Absolute Error: 12.18080630528549\n",
            "Mean Absolute Percentage Error: 0.2920912707934699\n"
          ]
        }
      ],
      "source": [
        "from sklearn.metrics import mean_squared_error\n",
        "from sklearn.metrics import r2_score\n",
        "from sklearn.metrics import mean_absolute_error\n",
        "from sklearn.metrics import mean_absolute_percentage_error\n",
        "# Calculate MSE\n",
        "mse = mean_squared_error(y_test, y_pred)\n",
        "print(\"Mean Squared Error:\", mse)\n",
        "r_squared = r2_score(y_test, y_pred)\n",
        "print(\"R-squared:\", r_squared)\n",
        "mae = mean_absolute_error(y_test,y_pred)\n",
        "print(\"Mean Absolute Error:\", mae)\n",
        "print(\"Mean Absolute Percentage Error:\", mape_score)"
      ]
    },
    {
      "cell_type": "code",
      "execution_count": null,
      "metadata": {
        "colab": {
          "base_uri": "https://localhost:8080/"
        },
        "id": "8J6-UGbvroUC",
        "outputId": "90e2113a-06ce-4a15-c166-fdf8bd0b1ecb"
      },
      "outputs": [
        {
          "output_type": "execute_result",
          "data": {
            "text/plain": [
              "0.2571591598954489"
            ]
          },
          "metadata": {},
          "execution_count": 71
        }
      ],
      "source": [
        "mape = []\n",
        "for i in range(0,y_pred.shape[1]):\n",
        "  mape.append(mean_absolute_percentage_error(y_pred[:,i], y_test[:,i]))\n",
        "\n",
        "np.mean(mape)"
      ]
    },
    {
      "cell_type": "code",
      "execution_count": null,
      "metadata": {
        "colab": {
          "base_uri": "https://localhost:8080/",
          "height": 378
        },
        "id": "7A12TN3U7ZIZ",
        "outputId": "4b316812-97f4-4a19-bdca-bf436246b711"
      },
      "outputs": [
        {
          "output_type": "display_data",
          "data": {
            "text/plain": [
              "<Figure size 2000x600 with 1 Axes>"
            ],
            "image/png": "[encoded data removed]"
          },
          "metadata": {}
        }
      ],
      "source": [
        "# prompt: plot y_pred[:,200] against y_test[:,200] with a lot of detail\n",
        "\n",
        "import matplotlib.pyplot as plt\n",
        "\n",
        "plt.figure(figsize=(20, 6))\n",
        "plt.plot(y_pred[:, 900], label=\"Predicted\", color=\"orange\")\n",
        "plt.plot(y_test[:, 900], label=\"Actual\", color=\"blue\")\n",
        "plt.xlabel(\"Time Steps\")\n",
        "plt.ylabel(\"Flow\")\n",
        "plt.legend()\n",
        "plt.grid(True)\n",
        "plt.show()\n",
        "\n"
      ]
    },
    {
      "cell_type": "markdown",
      "metadata": {
        "id": "OENN3Akje6of"
      },
      "source": [
        "Similarity matrix:\n",
        "Mean Squared Error: 783.8812972812642\n",
        "R-squared: 0.7846006735635169\n",
        "Mean Squared Error: 617.0413320574976\n",
        "R-squared: 0.8360675520951083\n",
        "Mean Squared Error: 591.0287452613019\n",
        "R-squared: 0.8437972262248071"
      ]
    },
    {
      "cell_type": "code",
      "execution_count": null,
      "metadata": {
        "colab": {
          "base_uri": "https://localhost:8080/"
        },
        "id": "3rlJTuQsrwxW",
        "outputId": "0cce1220-f68b-48bf-d862-d5c0dc5cc03b"
      },
      "outputs": [
        {
          "data": {
            "text/plain": [
              "array([[ 17.524185 , 111.989876 , 203.08885  , ...,  32.15637  ,\n",
              "        193.14922  , 106.882515 ],\n",
              "       [ 17.581938 , 128.7065   , 218.39671  , ...,  30.039097 ,\n",
              "        208.04787  , 110.177475 ],\n",
              "       [ 19.101877 , 133.24242  , 258.88898  , ...,  34.213108 ,\n",
              "        211.46123  ,  79.456    ],\n",
              "       ...,\n",
              "       [ 28.46982  ,  49.62264  , 144.6659   , ...,   8.241834 ,\n",
              "        116.66648  ,  49.198387 ],\n",
              "       [ 27.878859 ,  50.687973 , 120.70694  , ...,   8.080536 ,\n",
              "        111.13677  ,  41.575893 ],\n",
              "       [ 26.966677 ,  58.417942 , 117.494675 , ...,   7.1993427,\n",
              "         86.43934  ,  37.544167 ]], dtype=float32)"
            ]
          },
          "execution_count": 37,
          "metadata": {},
          "output_type": "execute_result"
        }
      ],
      "source": [
        "y_pred"
      ]
    },
    {
      "cell_type": "code",
      "execution_count": null,
      "metadata": {
        "colab": {
          "base_uri": "https://localhost:8080/",
          "height": 211
        },
        "id": "dGtQE1lCse5T",
        "outputId": "2cd051fc-eaa8-4b6f-ca9c-70527fadb125"
      },
      "outputs": [
        {
          "ename": "AttributeError",
          "evalue": "'numpy.ndarray' object has no attribute 'columns'",
          "output_type": "error",
          "traceback": [
            "\u001b[0;31m---------------------------------------------------------------------------\u001b[0m",
            "\u001b[0;31mAttributeError\u001b[0m                            Traceback (most recent call last)",
            "\u001b[0;32m<ipython-input-39-a14857c24b7a>\u001b[0m in \u001b[0;36m<cell line: 5>\u001b[0;34m()\u001b[0m\n\u001b[1;32m      4\u001b[0m \u001b[0mr_arr\u001b[0m \u001b[0;34m=\u001b[0m \u001b[0;34m[\u001b[0m\u001b[0;34m]\u001b[0m\u001b[0;34m\u001b[0m\u001b[0;34m\u001b[0m\u001b[0m\n\u001b[1;32m      5\u001b[0m \u001b[0;32mfor\u001b[0m \u001b[0mi\u001b[0m \u001b[0;32min\u001b[0m \u001b[0mrange\u001b[0m\u001b[0;34m(\u001b[0m\u001b[0;36m988\u001b[0m\u001b[0;34m)\u001b[0m\u001b[0;34m:\u001b[0m\u001b[0;34m\u001b[0m\u001b[0;34m\u001b[0m\u001b[0m\n\u001b[0;32m----> 6\u001b[0;31m   \u001b[0mcol\u001b[0m \u001b[0;34m=\u001b[0m \u001b[0my_test\u001b[0m\u001b[0;34m.\u001b[0m\u001b[0mcolumns\u001b[0m\u001b[0;34m[\u001b[0m\u001b[0mi\u001b[0m\u001b[0;34m]\u001b[0m\u001b[0;34m\u001b[0m\u001b[0;34m\u001b[0m\u001b[0m\n\u001b[0m\u001b[1;32m      7\u001b[0m   \u001b[0my_test_ind\u001b[0m \u001b[0;34m=\u001b[0m \u001b[0my_test\u001b[0m\u001b[0;34m[\u001b[0m\u001b[0mcol\u001b[0m\u001b[0;34m]\u001b[0m\u001b[0;34m.\u001b[0m\u001b[0mvalues\u001b[0m\u001b[0;34m\u001b[0m\u001b[0;34m\u001b[0m\u001b[0m\n\u001b[1;32m      8\u001b[0m   \u001b[0my_pred_ind\u001b[0m \u001b[0;34m=\u001b[0m \u001b[0my_pred\u001b[0m\u001b[0;34m[\u001b[0m\u001b[0;34m:\u001b[0m\u001b[0;34m,\u001b[0m\u001b[0mi\u001b[0m\u001b[0;34m]\u001b[0m\u001b[0;34m\u001b[0m\u001b[0;34m\u001b[0m\u001b[0m\n",
            "\u001b[0;31mAttributeError\u001b[0m: 'numpy.ndarray' object has no attribute 'columns'"
          ]
        }
      ],
      "source": [
        "errors = {}\n",
        "mse_arr = []\n",
        "r = {}\n",
        "r_arr = []\n",
        "for i in range(988):\n",
        "  col = y_test.columns[i]\n",
        "  y_test_ind = y_test[col].values\n",
        "  y_pred_ind = y_pred[:,i]\n",
        "\n",
        "  mse = mean_squared_error(y_test_ind, y_pred_ind)\n",
        "  r2 = r2_score(y_test_ind, y_pred_ind)\n",
        "  mse_arr.append(mse)\n",
        "  errors[i] = mse\n",
        "  r_arr.append(r2)\n",
        "  r[i] = r2"
      ]
    },
    {
      "cell_type": "code",
      "execution_count": null,
      "metadata": {
        "id": "qH23WurOtD2T"
      },
      "outputs": [],
      "source": [
        "sum = 0\n",
        "for i in range(988):\n",
        "  if r[i] > 0.9:\n",
        "    sum += 1\n",
        "print(sum)"
      ]
    }
  ],
  "metadata": {
    "accelerator": "GPU",
    "colab": {
      "gpuType": "A100",
      "machine_shape": "hm",
      "provenance": [],
      "toc_visible": true,
      "authorship_tag": "ABX9TyMCCYfyrxpD9einOSPN60Dk",
      "include_colab_link": true
    },
    "kernelspec": {
      "display_name": "Python 3",
      "name": "python3"
    },
    "language_info": {
      "name": "python"
    }
  },
  "nbformat": 4,
  "nbformat_minor": 0
}